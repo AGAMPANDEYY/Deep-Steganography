{
 "cells": [
  {
   "cell_type": "code",
   "execution_count": 1,
   "metadata": {},
   "outputs": [
    {
     "name": "stdout",
     "output_type": "stream",
     "text": [
      "Populating the interactive namespace from numpy and matplotlib\n"
     ]
    }
   ],
   "source": [
    "%pylab inline"
   ]
  },
  {
   "cell_type": "code",
   "execution_count": 2,
   "metadata": {},
   "outputs": [],
   "source": [
    "import glob\n",
    "import os\n",
    "from PIL import Image,ImageOps\n",
    "import random\n",
    "import tensorflow as tf\n",
    "import time\n",
    "from datetime import datetime"
   ]
  },
  {
   "cell_type": "code",
   "execution_count": 3,
   "metadata": {},
   "outputs": [],
   "source": [
    "TRAIN_PATH = './data/train/'\n",
    "LOGS_Path = \"./logs\"\n",
    "BATCH_SIZE = 8"
   ]
  },
  {
   "cell_type": "code",
   "execution_count": 4,
   "metadata": {},
   "outputs": [],
   "source": [
    "files_list = glob.glob(os.path.join(TRAIN_PATH,\"**/*\"))\n",
    "def get_img_batch(files_list,batch_size=32,size=(224,224),should_normalise=True,should_noise=True):\n",
    "   \n",
    "    batch_cover = []\n",
    "    batch_secret = []\n",
    "\n",
    "\n",
    "    for i in range(batch_size):\n",
    "        img_secret_path = random.choice(files_list)\n",
    "        img_cover_path = random.choice(files_list)\n",
    "        \n",
    "        img_secret = Image.open(img_secret_path).convert(\"RGB\")\n",
    "        img_cover = Image.open(img_cover_path).convert(\"RGB\")\n",
    "\n",
    "        img_secret = np.array(ImageOps.fit(img_secret,size),dtype=np.float32)\n",
    "        img_cover = np.array(ImageOps.fit(img_cover,size),dtype=np.float32)\n",
    "        \n",
    "        img_secret /= 255.\n",
    "        img_cover /= 255.\n",
    "        \n",
    "        \n",
    "        \n",
    "        batch_cover.append(img_cover)\n",
    "        batch_secret.append(img_secret)\n",
    "        \n",
    "    batch_cover,batch_secret = np.array(batch_cover) , np.array(batch_secret)\n",
    "    \n",
    "    batch_cover = (batch_cover -  np.array([0.485, 0.456, 0.406]))/np.array([0.229, 0.224, 0.225])\n",
    "    batch_secret = (batch_secret -  np.array([0.485, 0.456, 0.406]))/np.array([0.229, 0.224, 0.225])\n",
    "\n",
    "    return batch_cover,batch_secret\n",
    "    "
   ]
  },
  {
   "cell_type": "code",
   "execution_count": 5,
   "metadata": {},
   "outputs": [],
   "source": [
    "def get_prep_network_op(secret_tensor):\n",
    "    \n",
    "    with tf.variable_scope('prep_net'):\n",
    "        \n",
    "        with tf.variable_scope(\"3x3_conv_branch\"):\n",
    "            conv_3x3 = tf.layers.conv2d(inputs=secret_tensor,filters=50,kernel_size=3,padding='same',name=\"1\",activation=tf.nn.relu)\n",
    "            conv_3x3 = tf.layers.conv2d(inputs=conv_3x3,filters=50,kernel_size=3,padding='same',name=\"2\",activation=tf.nn.relu)\n",
    "            conv_3x3 = tf.layers.conv2d(inputs=conv_3x3,filters=50,kernel_size=3,padding='same',name=\"3\",activation=tf.nn.relu)\n",
    "            conv_3x3 = tf.layers.conv2d(inputs=conv_3x3,filters=50,kernel_size=3,padding='same',name=\"4\",activation=tf.nn.relu)\n",
    "            \n",
    "        with tf.variable_scope(\"4x4_conv_branch\"):\n",
    "            conv_4x4 = tf.layers.conv2d(inputs=secret_tensor,filters=50,kernel_size=4,padding='same',name=\"1\",activation=tf.nn.relu)\n",
    "            conv_4x4 = tf.layers.conv2d(inputs=conv_4x4,filters=50,kernel_size=4,padding='same',name=\"2\",activation=tf.nn.relu)           \n",
    "            conv_4x4 = tf.layers.conv2d(inputs=conv_4x4,filters=50,kernel_size=4,padding='same',name=\"3\",activation=tf.nn.relu)\n",
    "            conv_4x4 = tf.layers.conv2d(inputs=conv_4x4,filters=50,kernel_size=4,padding='same',name=\"4\",activation=tf.nn.relu)\n",
    "\n",
    "        with tf.variable_scope(\"5x5_conv_branch\"):\n",
    "            conv_5x5 = tf.layers.conv2d(inputs=secret_tensor,filters=50,kernel_size=5,padding='same',name=\"1\",activation=tf.nn.relu)\n",
    "            conv_5x5 = tf.layers.conv2d(inputs=conv_5x5,filters=50,kernel_size=5,padding='same',name=\"2\",activation=tf.nn.relu)           \n",
    "            conv_5x5 = tf.layers.conv2d(inputs=conv_5x5,filters=50,kernel_size=5,padding='same',name=\"3\",activation=tf.nn.relu)\n",
    "            conv_5x5 = tf.layers.conv2d(inputs=conv_5x5,filters=50,kernel_size=5,padding='same',name=\"4\",activation=tf.nn.relu)\n",
    "            \n",
    "        concat_1 = tf.concat([conv_3x3,conv_4x4,conv_5x5],axis=3,name='concat_1')\n",
    "        \n",
    "        conv_5x5 = tf.layers.conv2d(inputs=concat_1,filters=50,kernel_size=5,padding='same',name=\"final_5x5\",activation=tf.nn.relu)\n",
    "        conv_4x4 = tf.layers.conv2d(inputs=concat_1,filters=50,kernel_size=5,padding='same',name=\"final_4x4\",activation=tf.nn.relu)\n",
    "        conv_3x3 = tf.layers.conv2d(inputs=concat_1,filters=50,kernel_size=5,padding='same',name=\"final_3x3\",activation=tf.nn.relu)\n",
    "        \n",
    "        concat_final = tf.concat([conv_5x5,conv_4x4,conv_3x3],axis=3,name='concat_final')\n",
    "\n",
    "\n",
    "        return concat_final\n",
    "\n",
    "    \n",
    "def get_hiding_network_op(cover_tensor,prep_output):\n",
    "    \n",
    "    with tf.variable_scope('hide_net'):\n",
    "        concat_input = tf.concat([cover_tensor,prep_output],axis=3,name='images_features_concat')\n",
    "        \n",
    "        with tf.variable_scope(\"3x3_conv_branch\"):\n",
    "            conv_3x3 = tf.layers.conv2d(inputs=concat_input,filters=50,kernel_size=3,padding='same',name=\"1\",activation=tf.nn.relu)\n",
    "            conv_3x3 = tf.layers.conv2d(inputs=conv_3x3,filters=50,kernel_size=3,padding='same',name=\"2\",activation=tf.nn.relu)\n",
    "            conv_3x3 = tf.layers.conv2d(inputs=conv_3x3,filters=50,kernel_size=3,padding='same',name=\"3\",activation=tf.nn.relu)\n",
    "            conv_3x3 = tf.layers.conv2d(inputs=conv_3x3,filters=50,kernel_size=3,padding='same',name=\"4\",activation=tf.nn.relu)\n",
    "            \n",
    "        with tf.variable_scope(\"4x4_conv_branch\"):\n",
    "            conv_4x4 = tf.layers.conv2d(inputs=concat_input,filters=50,kernel_size=4,padding='same',name=\"1\",activation=tf.nn.relu)\n",
    "            conv_4x4 = tf.layers.conv2d(inputs=conv_4x4,filters=50,kernel_size=4,padding='same',name=\"2\",activation=tf.nn.relu)          \n",
    "            conv_4x4 = tf.layers.conv2d(inputs=conv_4x4,filters=50,kernel_size=4,padding='same',name=\"3\",activation=tf.nn.relu)\n",
    "            conv_4x4 = tf.layers.conv2d(inputs=conv_4x4,filters=50,kernel_size=4,padding='same',name=\"4\",activation=tf.nn.relu)\n",
    "\n",
    "        with tf.variable_scope(\"5x5_conv_branch\"):\n",
    "            conv_5x5 = tf.layers.conv2d(inputs=concat_input,filters=50,kernel_size=5,padding='same',name=\"1\",activation=tf.nn.relu)\n",
    "            conv_5x5 = tf.layers.conv2d(inputs=conv_5x5,filters=50,kernel_size=5,padding='same',name=\"2\",activation=tf.nn.relu)          \n",
    "            conv_5x5 = tf.layers.conv2d(inputs=conv_5x5,filters=50,kernel_size=5,padding='same',name=\"3\",activation=tf.nn.relu)\n",
    "            conv_5x5 = tf.layers.conv2d(inputs=conv_5x5,filters=50,kernel_size=5,padding='same',name=\"4\",activation=tf.nn.relu)\n",
    "            \n",
    "        concat_1 = tf.concat([conv_3x3,conv_4x4,conv_5x5],axis=3,name='concat_1')\n",
    "        \n",
    "        conv_5x5 = tf.layers.conv2d(inputs=concat_1,filters=50,kernel_size=5,padding='same',name=\"final_5x5\",activation=tf.nn.relu)\n",
    "        conv_4x4 = tf.layers.conv2d(inputs=concat_1,filters=50,kernel_size=5,padding='same',name=\"final_4x4\",activation=tf.nn.relu)\n",
    "        conv_3x3 = tf.layers.conv2d(inputs=concat_1,filters=50,kernel_size=5,padding='same',name=\"final_3x3\",activation=tf.nn.relu)\n",
    "        \n",
    "        concat_final = tf.concat([conv_5x5,conv_4x4,conv_3x3],axis=3,name='concat_final')\n",
    "    \n",
    "        output = tf.layers.conv2d(inputs=concat_final,filters=3,kernel_size=1,padding='same',name='output')\n",
    "\n",
    "\n",
    "\n",
    "        return output\n",
    "    \n",
    "        \n",
    "        \n",
    "def get_reveal_network_op(container_tensor):\n",
    "    \n",
    "    with tf.variable_scope('reveal_net'):\n",
    "        \n",
    "        with tf.variable_scope(\"3x3_conv_branch\"):\n",
    "            conv_3x3 = tf.layers.conv2d(inputs=container_tensor,filters=50,kernel_size=3,padding='same',name=\"1\",activation=tf.nn.relu)\n",
    "            conv_3x3 = tf.layers.conv2d(inputs=conv_3x3,filters=50,kernel_size=3,padding='same',name=\"2\",activation=tf.nn.relu)\n",
    "            conv_3x3 = tf.layers.conv2d(inputs=conv_3x3,filters=50,kernel_size=3,padding='same',name=\"3\",activation=tf.nn.relu)\n",
    "            conv_3x3 = tf.layers.conv2d(inputs=conv_3x3,filters=50,kernel_size=3,padding='same',name=\"4\",activation=tf.nn.relu)\n",
    "            \n",
    "        with tf.variable_scope(\"4x4_conv_branch\"):\n",
    "            conv_4x4 = tf.layers.conv2d(inputs=container_tensor,filters=50,kernel_size=4,padding='same',name=\"1\",activation=tf.nn.relu)\n",
    "            conv_4x4 = tf.layers.conv2d(inputs=conv_4x4,filters=50,kernel_size=4,padding='same',name=\"2\",activation=tf.nn.relu)          \n",
    "            conv_4x4 = tf.layers.conv2d(inputs=conv_4x4,filters=50,kernel_size=4,padding='same',name=\"3\",activation=tf.nn.relu)\n",
    "            conv_4x4 = tf.layers.conv2d(inputs=conv_4x4,filters=50,kernel_size=4,padding='same',name=\"4\",activation=tf.nn.relu)\n",
    "\n",
    "        with tf.variable_scope(\"5x5_conv_branch\"):\n",
    "            conv_5x5 = tf.layers.conv2d(inputs=container_tensor,filters=50,kernel_size=5,padding='same',name=\"1\",activation=tf.nn.relu)\n",
    "            conv_5x5 = tf.layers.conv2d(inputs=conv_5x5,filters=50,kernel_size=5,padding='same',name=\"2\",activation=tf.nn.relu)           \n",
    "            conv_5x5 = tf.layers.conv2d(inputs=conv_5x5,filters=50,kernel_size=5,padding='same',name=\"3\",activation=tf.nn.relu)\n",
    "            conv_5x5 = tf.layers.conv2d(inputs=conv_5x5,filters=50,kernel_size=5,padding='same',name=\"4\",activation=tf.nn.relu)\n",
    "            \n",
    "        concat_1 = tf.concat([conv_3x3,conv_4x4,conv_5x5],axis=3,name='concat_1')\n",
    "        \n",
    "        conv_5x5 = tf.layers.conv2d(inputs=concat_1,filters=50,kernel_size=5,padding='same',name=\"final_5x5\",activation=tf.nn.relu)\n",
    "        conv_4x4 = tf.layers.conv2d(inputs=concat_1,filters=50,kernel_size=5,padding='same',name=\"final_4x4\",activation=tf.nn.relu)\n",
    "        conv_3x3 = tf.layers.conv2d(inputs=concat_1,filters=50,kernel_size=5,padding='same',name=\"final_3x3\",activation=tf.nn.relu)\n",
    "        \n",
    "        concat_final = tf.concat([conv_5x5,conv_4x4,conv_3x3],axis=3,name='concat_final')\n",
    "    \n",
    "    output = tf.layers.conv2d(inputs=concat_final,filters=3,kernel_size=1,padding='same',name='output')\n",
    "\n",
    "    return output\n",
    "\n",
    "\n",
    "def get_loss_op(secret_true,secret_pred,cover_true,cover_pred,beta=.5):\n",
    "    \n",
    "    with tf.variable_scope(\"losses\"):\n",
    "        beta = tf.constant(beta,name=\"beta\")\n",
    "        secret_mse = tf.losses.mean_squared_error(secret_true,secret_pred)\n",
    "        cover_mse = tf.losses.mean_squared_error(cover_true,cover_pred)\n",
    "        final_loss = cover_mse + beta*secret_mse\n",
    "        return final_loss , secret_mse , cover_mse \n",
    "\n",
    "def get_noise_layer_op(tensor,std=.1):\n",
    "    with tf.variable_scope(\"noise_layer\"):\n",
    "        return tensor + tf.random_normal(shape=tf.shape(tensor), mean=0.0, stddev=std, dtype=tf.float32) "
   ]
  },
  {
   "cell_type": "code",
   "execution_count": 6,
   "metadata": {},
   "outputs": [],
   "source": [
    "def tensor_to_img_op(tensor):\n",
    "    with tf.variable_scope(\"\",reuse=True):\n",
    "        t = tensor*tf.convert_to_tensor([0.229, 0.224, 0.225]) + tf.convert_to_tensor([0.485, 0.456, 0.406])\n",
    "        return tf.clip_by_value(t,0,1)"
   ]
  },
  {
   "cell_type": "code",
   "execution_count": 7,
   "metadata": {},
   "outputs": [],
   "source": [
    "def prepare_training_graph():\n",
    "    secret_tensor = tf.placeholder(shape=[None,224,224,3],dtype=tf.float32,name=\"input_prep\")\n",
    "    cover_tensor = tf.placeholder(shape=[None,224,224,3],dtype=tf.float32,name=\"input_hide\")\n",
    "    \n",
    "    prep_output_op = get_prep_network_op(secret_tensor)\n",
    "    hiding_output_op = get_hiding_network_op(cover_tensor=cover_tensor,prep_output=prep_output_op)\n",
    "    noise_add_op = get_noise_layer_op(hiding_output_op)\n",
    "    reveal_output_op = get_reveal_network_op(noise_add_op)\n",
    "    \n",
    "    loss_op,secret_loss_op,cover_loss_op = get_loss_op(secret_tensor,reveal_output_op,cover_tensor,hiding_output_op)\n",
    "\n",
    "    minimize_op = tf.train.AdamOptimizer(0.0001).minimize(loss_op)\n",
    "    \n",
    "    tf.summary.scalar('loss', loss_op)\n",
    "    tf.summary.scalar('reveal_network_loss', secret_loss_op)\n",
    "    tf.summary.scalar('cover_network_loss', cover_loss_op)\n",
    "\n",
    "\n",
    "    tf.summary.image('secret',tensor_to_img_op(secret_tensor),max_outputs=1)\n",
    "    tf.summary.image('cover',tensor_to_img_op(cover_tensor),max_outputs=1)\n",
    "    tf.summary.image('hidden',tensor_to_img_op(hiding_output_op),max_outputs=1)\n",
    "    tf.summary.image('hidden_noisy',tensor_to_img_op(noise_add_op),max_outputs=1)\n",
    "    tf.summary.image('revealed',tensor_to_img_op(reveal_output_op),max_outputs=1)\n",
    "\n",
    "    merged_summary_op = tf.summary.merge_all()\n",
    "    \n",
    "    return minimize_op, merged_summary_op \n",
    "\n",
    "\n",
    "    \n",
    "    "
   ]
  },
  {
   "cell_type": "code",
   "execution_count": 8,
   "metadata": {},
   "outputs": [],
   "source": [
    "sess = tf.InteractiveSession(graph=tf.Graph())\n",
    "train_op , summary_op = prepare_training_graph()"
   ]
  },
  {
   "cell_type": "code",
   "execution_count": 9,
   "metadata": {},
   "outputs": [],
   "source": [
    "writer = tf.summary.FileWriter(f\"logs/run1\",sess.graph)\n",
    "saver = tf.train.Saver()"
   ]
  },
  {
   "cell_type": "code",
   "execution_count": null,
   "metadata": {},
   "outputs": [],
   "source": [
    "sess.run(tf.global_variables_initializer())"
   ]
  },
  {
   "cell_type": "code",
   "execution_count": null,
   "metadata": {},
   "outputs": [],
   "source": [
    "total_steps = len(files_list)//BATCH_SIZE + 1\n",
    "for ep in range(3000):\n",
    "    \n",
    "    for step in range(total_steps):\n",
    "        covers,secrets = get_img_batch(files_list=files_list,batch_size=BATCH_SIZE)\n",
    "        sess.run([train_op],feed_dict={\"input_prep:0\":secrets,\"input_hide:0\":covers})\n",
    "        \n",
    "        if step % 10 ==0 :\n",
    "            summary = sess.run(summary_op,feed_dict={\"input_prep:0\":secrets,\"input_hide:0\":covers})\n",
    "            writer.add_summary(summary,ep*total_steps + step)\n",
    "            \n",
    "    \n",
    "    save_path = saver.save(sess, f\"./checkpoints/run1-step_{ep*total_steps + step}.chpk\")"
   ]
  },
  {
   "cell_type": "code",
   "execution_count": null,
   "metadata": {},
   "outputs": [],
   "source": [
    "# secret_tensor = tf.placeholder(shape=[None,224,224,3],dtype=tf.float32,name=\"input_prep\")\n",
    "# cover_tensor = tf.placeholder(shape=[None,224,224,3],dtype=tf.float32,name=\"input_hide\")\n",
    "\n",
    "\n",
    "# prep_output_op = prep_network(secret_tensor)\n",
    "\n",
    "# hiding_output_op = hiding_network(cover_tensor=cover_tensor,prep_output=prep_output_op)\n",
    "\n",
    "# noise_add_op = get_noise_op(hiding_output_op)\n",
    "\n",
    "# reveal_output_op = reveal_network(noise_add_op)\n",
    "\n",
    "\n",
    "\n",
    "# loss_op = get_loss_op(secret_tensor,reveal_output_op,cover_tensor,hiding_output_op)\n",
    "# minimize_op = tf.train.AdamOptimizer(0.0001,epsilon=1e-06).minimize(loss_op)\n",
    "    \n",
    "\n",
    "# def tensor_to_img_op(tensor):\n",
    "#     with tf.variable_scope(\"\",reuse=True):\n",
    "#         t = tensor*tf.convert_to_tensor([0.229, 0.224, 0.225]) + tf.convert_to_tensor([0.485, 0.456, 0.406])\n",
    "#         return tf.clip_by_value(t,0,1)\n",
    "\n",
    "\n",
    "# tf.summary.scalar('loss', loss_op)\n",
    "# tf.summary.image('secret',tensor_to_img_op(secret_tensor),max_outputs=1)\n",
    "# tf.summary.image('cover',tensor_to_img_op(cover_tensor),max_outputs=1)\n",
    "# tf.summary.image('hidden',tensor_to_img_op(hiding_output_op),max_outputs=1)\n",
    "# tf.summary.image('hidden_noisy',tensor_to_img_op(noise_add_op),max_outputs=1)\n",
    "# tf.summary.image('revealed',tensor_to_img_op(reveal_output_op),max_outputs=1)\n",
    "\n",
    "# merged_summary_op = tf.summary.merge_all()"
   ]
  },
  {
   "cell_type": "code",
   "execution_count": null,
   "metadata": {},
   "outputs": [],
   "source": [
    "# writer = tf.summary.FileWriter(f\"logs/beta-.5-noise-large-eps\",sess.graph)\n",
    "# saver = tf.train.Saver()"
   ]
  },
  {
   "cell_type": "code",
   "execution_count": null,
   "metadata": {},
   "outputs": [],
   "source": [
    "# sess.run(tf.global_variables_initializer())"
   ]
  },
  {
   "cell_type": "code",
   "execution_count": null,
   "metadata": {
    "scrolled": true
   },
   "outputs": [],
   "source": [
    "\n",
    "# total_steps = len(files_list)//BATCH_SIZE + 1\n",
    "# for ep in range(3000):\n",
    "    \n",
    "#     for step in range(total_steps):\n",
    "#         covers,secrets = get_img_batch(files_list=files_list,batch_size=BATCH_SIZE)\n",
    "\n",
    "#         _,loss = sess.run([minimize_op,loss_op],\n",
    "#                                   feed_dict={secret_tensor:secrets,cover_tensor:covers})\n",
    "        \n",
    "#         if step % 10 ==0 :\n",
    "#             summary = sess.run(merged_summary_op,feed_dict={secret_tensor:secrets,cover_tensor:covers})\n",
    "#             writer.add_summary(summary,ep*total_steps + step)\n",
    "            \n",
    "    \n",
    "#     save_path = saver.save(sess, f\"./checkpoints/beta-.5-noise-large-eps/Epoch-{ep}--Loss-{loss}.chpk\")\n",
    "            "
   ]
  },
  {
   "cell_type": "code",
   "execution_count": null,
   "metadata": {},
   "outputs": [],
   "source": [
    "# save_path = saver.save(sess, f\"./checkpoints/final.chpk\")\n",
    "\n",
    "# save_path = saver.save(sess, f\"./checkpoints/exp-.5_noise/Epoch-{ep}--Loss-{loss}.chpk\")\n",
    "\n"
   ]
  },
  {
   "cell_type": "code",
   "execution_count": null,
   "metadata": {},
   "outputs": [],
   "source": [
    "# sess.close()\n",
    "\n",
    "# writer.close()"
   ]
  },
  {
   "cell_type": "code",
   "execution_count": null,
   "metadata": {},
   "outputs": [],
   "source": [
    "covers,secrets = batch\n",
    "cover = covers.squeeze()\n",
    "secret = secrets.squeeze()\n",
    "plt.imshow(cover)\n",
    "plt.show()\n",
    "plt.imshow(secret)\n",
    "plt.show()\n"
   ]
  },
  {
   "cell_type": "code",
   "execution_count": null,
   "metadata": {},
   "outputs": [],
   "source": [
    "test_placeholder = tf.placeholder(shape=[1,224,224,3],dtype=tf.float32)\n",
    "with tf.variable_scope(\"\",reuse=True) :\n",
    "    reveal_output_test = reveal_network(test_placeholder)\n",
    "\n",
    "batch2 = get_img_batch(files_list=files_list,batch_size=1) \n",
    "covers,secrets = batch2\n",
    "cover = covers.squeeze()\n",
    "secret = secrets.squeeze()\n",
    "\n",
    "# plt.imshow(cover)\n",
    "# plt.show()\n",
    "# plt.imshow(secret)\n",
    "# plt.show()\n",
    "\n",
    "\n",
    "reveal_img = sess.run([reveal_output_test],feed_dict={test_placeholder:covers})[0]\n",
    "# reveal_img.shape"
   ]
  },
  {
   "cell_type": "code",
   "execution_count": null,
   "metadata": {},
   "outputs": [],
   "source": [
    "plt.imshow(np.clip(reveal_img.squeeze(),0,1))"
   ]
  },
  {
   "cell_type": "code",
   "execution_count": null,
   "metadata": {},
   "outputs": [],
   "source": [
    "plt.imshow(np.clip(hiding_output.squeeze(),0,1))"
   ]
  },
  {
   "cell_type": "code",
   "execution_count": null,
   "metadata": {},
   "outputs": [],
   "source": [
    "hiding_network_output = sess.run([hiding_output_op],\n",
    "                                  feed_dict={secret_tensor:secrets,cover_tensor:covers})[0]"
   ]
  },
  {
   "cell_type": "code",
   "execution_count": null,
   "metadata": {},
   "outputs": [],
   "source": [
    "plt.imshow(np.clip(hiding_network_output[0],0,1))"
   ]
  },
  {
   "cell_type": "code",
   "execution_count": null,
   "metadata": {},
   "outputs": [],
   "source": []
  }
 ],
 "metadata": {
  "kernelspec": {
   "display_name": "Python 3",
   "language": "python",
   "name": "python3"
  },
  "language_info": {
   "codemirror_mode": {
    "name": "ipython",
    "version": 3
   },
   "file_extension": ".py",
   "mimetype": "text/x-python",
   "name": "python",
   "nbconvert_exporter": "python",
   "pygments_lexer": "ipython3",
   "version": "3.6.3"
  }
 },
 "nbformat": 4,
 "nbformat_minor": 2
}
